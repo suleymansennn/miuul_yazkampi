{
 "cells": [
  {
   "cell_type": "markdown",
   "id": "bec2d4cd-7e63-436b-8318-147f278476c2",
   "metadata": {},
   "source": [
    "# Fonksiyonlar"
   ]
  },
  {
   "cell_type": "markdown",
   "id": "55dd6d26-fa92-4862-ab40-0ac03622342d",
   "metadata": {},
   "source": [
    "##### Fonksiyonlar birden fazla girdiyi belirli işlemlerden geçirerek birden fazla çıktı verebilen yapılardır. \n",
    "Fonksiyonları birer kara kutu olarak düşünebiliriz. Kutuya bir girdi göndeririz, \n",
    "kutu içerisinde girdiye belirli işlemler uygulanır ve sonucunda bir çıktı verir."
   ]
  },
  {
   "cell_type": "markdown",
   "id": "e1e60819-7a42-4a7a-a65d-b7ceff9cbdbe",
   "metadata": {},
   "source": [
    "#### Kullanıcı tanımlı fonksiyonlara ne zaman ihtiyacımız olur?\n",
    "###### *Bir kod bloğunu birden fazla kez kullanmak gerektiğinde\n",
    "###### *Fonksiyona verilen anlamlı isimler sayesinde kodu anlamayı kolaylaştırır.\n",
    "###### *Kodda bir değişiklik yapılacağı zaman birden fazla yerde değil sadece fonksiyonun içerisinde değişiklik yapmamıza olanak sağlar.\n",
    "###### *Kopyala-yapıştır yaparken oluşabilecek hataları önler.\n"
   ]
  },
  {
   "cell_type": "markdown",
   "id": "e37f4bb0-2221-427e-976d-22e268ea46c2",
   "metadata": {},
   "source": [
    "#### Peki bir fonksiyonu oluştururken dikkat edilmesi gerekenler nelerdir?\n",
    "###### *Kısa ama açıklayıcı bir isim seçilmeli, fiiller olabilir\n",
    "###### *Fonksiyon ismi seçilirken, yaygın olarak kullanılan diğer fonksiyonların isimleriyle aynı olmamalı.(mean<-function(x){})\n"
   ]
  },
  {
   "cell_type": "code",
   "execution_count": 1,
   "id": "3e0ef6de-2ece-4a7f-9f4b-c6263a132567",
   "metadata": {},
   "outputs": [],
   "source": [
    "# ?print komutu ile öntanımlı fonksiyonların dökümantasyonunu incelenebilir."
   ]
  },
  {
   "cell_type": "code",
   "execution_count": 2,
   "id": "31061a10-c2ac-4874-88bf-8c296a05fd5d",
   "metadata": {},
   "outputs": [
    {
     "ename": "SyntaxError",
     "evalue": "invalid syntax (2869130759.py, line 2)",
     "output_type": "error",
     "traceback": [
      "\u001b[1;36m  Input \u001b[1;32mIn [2]\u001b[1;36m\u001b[0m\n\u001b[1;33m    def fonksiyon_ismi(girdi1,girdi2....):\u001b[0m\n\u001b[1;37m                                    ^\u001b[0m\n\u001b[1;31mSyntaxError\u001b[0m\u001b[1;31m:\u001b[0m invalid syntax\n"
     ]
    }
   ],
   "source": [
    "# Fonksiyon Tanimlama\n",
    "def fonksiyon_ismi(virgül ile ayrılan girdiler):\n",
    "    Yapilacak islemler\n",
    "    .\n",
    "    .\n",
    "    .\n",
    "    return \n",
    "\n",
    "# Fonksiyonu çağırma\n",
    "fonksiyon_ismi(virgül ile ayrılan girdiler)"
   ]
  },
  {
   "cell_type": "code",
   "execution_count": 3,
   "id": "ba029ace-7e13-41d8-b014-90b30435f6f9",
   "metadata": {},
   "outputs": [
    {
     "name": "stdout",
     "output_type": "stream",
     "text": [
      "22\n"
     ]
    }
   ],
   "source": [
    "# Fonksiyon Tanimlama\n",
    "def calculate(x):\n",
    "    print(x * 2)\n",
    "\n",
    "calculate(11)"
   ]
  },
  {
   "cell_type": "code",
   "execution_count": 4,
   "id": "8bb47c3f-3b1a-4a09-9df9-936c48c55d35",
   "metadata": {},
   "outputs": [
    {
     "name": "stdout",
     "output_type": "stream",
     "text": [
      "8\n"
     ]
    }
   ],
   "source": [
    "def summer(arg1, arg2):\n",
    "    print(arg1+arg2)\n",
    "\n",
    "\n",
    "summer(5, 3)"
   ]
  },
  {
   "cell_type": "code",
   "execution_count": 6,
   "id": "0e3fba68-5649-4890-a563-c7172c9c0c8f",
   "metadata": {},
   "outputs": [
    {
     "name": "stdout",
     "output_type": "stream",
     "text": [
      "19\n"
     ]
    }
   ],
   "source": [
    "summer(arg1=7, arg2= 12)"
   ]
  },
  {
   "cell_type": "markdown",
   "id": "4129cfd5-99ab-4071-bf3c-8b4c5b9540da",
   "metadata": {},
   "source": [
    "## Docstirng\n",
    "##### Oluşturmak için üçlü tırnak kullanılır"
   ]
  },
  {
   "cell_type": "code",
   "execution_count": 7,
   "id": "69800cd8-e852-42ef-81e7-e67d4e486e4c",
   "metadata": {},
   "outputs": [],
   "source": [
    "def summer(arg1, arg2):\n",
    "    \"\"\"\n",
    "    Sum of two numbers\n",
    "    Args:\n",
    "        arg1: int, float\n",
    "        arg2: int, float\n",
    "\n",
    "    Returns:\n",
    "        int, float\n",
    "\n",
    "    Examples:\n",
    "        summer(3,1) = 3+1 = 4\n",
    "\n",
    "    \"\"\"\n",
    "    print(arg1+arg2)"
   ]
  },
  {
   "cell_type": "code",
   "execution_count": 8,
   "id": "22d20017-77d9-41fe-aea9-f95463cdfb8e",
   "metadata": {
    "jupyter": {
     "source_hidden": true
    },
    "tags": []
   },
   "outputs": [
    {
     "name": "stdout",
     "output_type": "stream",
     "text": [
      "[15]\n",
      "[15, 8]\n",
      "[15, 8, 99]\n",
      "[15, 8, 99, 9.899999999999999]\n"
     ]
    }
   ],
   "source": [
    "# Girilen Degerleri bir liste icinde saklayacaK fonksiyon\n",
    "list_store = []\n",
    "\n",
    "\n",
    "def add_element(a, b):\n",
    "    c = a * b\n",
    "    list_store.append(c)\n",
    "    print(list_store)\n",
    "\n",
    "\n",
    "add_element(5,3)\n",
    "add_element(2,4)\n",
    "add_element(11,9)\n",
    "add_element(3.3,3)"
   ]
  },
  {
   "cell_type": "markdown",
   "id": "2d94567c-c521-4561-9896-a2c18005991b",
   "metadata": {
    "tags": []
   },
   "source": [
    "### Ön tanımlı fonksiyonlar"
   ]
  },
  {
   "cell_type": "code",
   "execution_count": 9,
   "id": "bdc8bf3e-54b8-4461-8ad7-d1830e29423b",
   "metadata": {},
   "outputs": [
    {
     "name": "stdout",
     "output_type": "stream",
     "text": [
      "Merhaba\n",
      "Hello\n",
      "Hi\n"
     ]
    }
   ],
   "source": [
    "def say_hi(string=\"Merhaba\"):\n",
    "    print(string)\n",
    "    print(\"Hello\")\n",
    "    print(\"Hi\")\n",
    "\n",
    "\n",
    "say_hi()"
   ]
  },
  {
   "cell_type": "code",
   "execution_count": 10,
   "id": "293423a0-430e-40f7-bad0-06b5948a197d",
   "metadata": {},
   "outputs": [
    {
     "name": "stdout",
     "output_type": "stream",
     "text": [
      "Suleyman\n",
      "Hello\n",
      "Hi\n"
     ]
    }
   ],
   "source": [
    "say_hi(\"Suleyman\")"
   ]
  },
  {
   "cell_type": "markdown",
   "id": "42420c72-8526-4823-8697-da4d8ef73f9e",
   "metadata": {},
   "source": [
    "### Return \n",
    "##### fonksiyondan bir değer döndürmeye yarar"
   ]
  },
  {
   "cell_type": "code",
   "execution_count": 11,
   "id": "d9628989-ac0f-4bc1-9c49-cb98b038a69b",
   "metadata": {},
   "outputs": [
    {
     "data": {
      "text/plain": [
       "18.333333333333332"
      ]
     },
     "execution_count": 11,
     "metadata": {},
     "output_type": "execute_result"
    }
   ],
   "source": [
    "def calculate(varm, moisture, charge):\n",
    "    return (varm + moisture)/charge\n",
    "\n",
    "\n",
    "calculate(98,12,60) * 10"
   ]
  },
  {
   "cell_type": "code",
   "execution_count": 13,
   "id": "dcf14b75-50d2-43a1-9da4-a56987bc88cc",
   "metadata": {},
   "outputs": [
    {
     "data": {
      "text/plain": [
       "(196, 24, 120, 1.8333333333333333)"
      ]
     },
     "execution_count": 13,
     "metadata": {},
     "output_type": "execute_result"
    }
   ],
   "source": [
    "def calculate(varm, moisture, charge):\n",
    "    varm = varm * 2\n",
    "    moisture = moisture * 2\n",
    "    charge = charge * 2\n",
    "    output = (varm + moisture)/charge\n",
    "    return (varm, moisture, charge, output)\n",
    "\n",
    "calculate(98,12,60)"
   ]
  },
  {
   "cell_type": "code",
   "execution_count": 26,
   "id": "cc2e1fc9-fa2b-40e6-86f5-5f47fbe9f362",
   "metadata": {},
   "outputs": [
    {
     "data": {
      "text/plain": [
       "18.0"
      ]
     },
     "execution_count": 26,
     "metadata": {},
     "output_type": "execute_result"
    }
   ],
   "source": [
    "def standardization(a, p):\n",
    "    return (a * 10/100) * (p ** 2)\n",
    "\n",
    "standardization(45, 2)"
   ]
  },
  {
   "cell_type": "code",
   "execution_count": 27,
   "id": "ae90273a-d643-4516-a397-c51426114969",
   "metadata": {},
   "outputs": [
    {
     "data": {
      "text/plain": [
       "1"
      ]
     },
     "execution_count": 27,
     "metadata": {},
     "output_type": "execute_result"
    }
   ],
   "source": [
    "def calculate(varm, moisture, charge):\n",
    "    return int((varm + moisture)/charge)   \n",
    "\n",
    "\n",
    "calculate(98,12,60)"
   ]
  },
  {
   "cell_type": "code",
   "execution_count": 28,
   "id": "d947f069-6c52-4a74-804f-a14e7a02eddd",
   "metadata": {},
   "outputs": [
    {
     "name": "stdout",
     "output_type": "stream",
     "text": [
      "4.0\n"
     ]
    }
   ],
   "source": [
    "def all_calculation(varm, moisture, charge, p):\n",
    "    a = calculate(varm, moisture, charge)\n",
    "    b = standardization(a, p)\n",
    "    print(b * 10)\n",
    "\n",
    "# all_calculation fonksiyonuna 4 girdi göderiliyor. \n",
    "# a değeri gönderilen değerler ile hesaplanıp bir başka fonksiyona girdi olarak gönderiliyor.\n",
    "\n",
    "all_calculation(80, 15, 70, 2)"
   ]
  },
  {
   "cell_type": "markdown",
   "id": "e8dd3209-e471-4f6c-b0fb-feae3267510f",
   "metadata": {},
   "source": [
    "### İf Elif Else\n",
    "###### koşullu durumlar için kullanılır."
   ]
  },
  {
   "cell_type": "code",
   "execution_count": 29,
   "id": "2a9c52f2-16cf-4e4d-9468-ce1fbc892577",
   "metadata": {},
   "outputs": [
    {
     "name": "stdout",
     "output_type": "stream",
     "text": [
      "greater than 20\n"
     ]
    }
   ],
   "source": [
    "def check_num(x):\n",
    "    if x == 20:\n",
    "        print(\"equal to 20\")\n",
    "    elif x > 20:\n",
    "        print(\"greater than 20\")\n",
    "    else:\n",
    "        print(\"less than 20\")\n",
    "\n",
    "\n",
    "check_num(21)"
   ]
  },
  {
   "cell_type": "code",
   "execution_count": 30,
   "id": "59bb2db7-4ccb-49c7-9d4a-e71e09f99c43",
   "metadata": {},
   "outputs": [
    {
     "name": "stdin",
     "output_type": "stream",
     "text": [
      "Enter your age 21\n"
     ]
    },
    {
     "name": "stdout",
     "output_type": "stream",
     "text": [
      "You are old enough to learn to drive\n"
     ]
    }
   ],
   "source": [
    "\n",
    "def check_age():\n",
    "    age = int(input(\"Enter your age\"))\n",
    "    if age >= 18:\n",
    "        print(\"You are old enough to learn to drive\")\n",
    "    else:\n",
    "        print(\"You need\", 18-age, \"more years to learn to drive\")\n",
    "\n",
    "\n",
    "check_age()"
   ]
  },
  {
   "cell_type": "code",
   "execution_count": 31,
   "id": "822097e7-6337-4320-babd-a44fa5103603",
   "metadata": {},
   "outputs": [
    {
     "name": "stdin",
     "output_type": "stream",
     "text": [
      "Enter your age: 17\n"
     ]
    },
    {
     "name": "stdout",
     "output_type": "stream",
     "text": [
      "You are 5 years younger than me\n"
     ]
    }
   ],
   "source": [
    "my_age = 22\n",
    "def who_is_older():\n",
    "    your_age = int(input(\"Enter your age:\"))\n",
    "    if your_age == my_age:\n",
    "        print(\"We are the same age!\")\n",
    "    elif your_age > my_age:\n",
    "        print(\"You are\", (your_age - my_age),\"years older than me\")\n",
    "    else:\n",
    "        print(\"You are\", (my_age - your_age), \"years younger than me\")\n",
    "\n",
    "who_is_older()"
   ]
  },
  {
   "cell_type": "markdown",
   "id": "96e8ac30-99a6-414f-82b7-fdbc2dd69f28",
   "metadata": {},
   "source": [
    "### Loops"
   ]
  },
  {
   "cell_type": "code",
   "execution_count": 32,
   "id": "99e7b901-1b31-4eaa-965b-c5713d91fd9f",
   "metadata": {},
   "outputs": [
    {
     "name": "stdout",
     "output_type": "stream",
     "text": [
      "John\n",
      "Mark\n",
      "Venessa\n",
      "Miriam\n"
     ]
    }
   ],
   "source": [
    "students = [\"John\", \"Mark\", \"Venessa\", \"Miriam\"]\n",
    "# i students üzerinde dolaşarak her bir döngüde bir değeri tutar.\n",
    "# 1. döngü -> i = John\n",
    "# 2. döngü -> i = Mark\n",
    "# 3. döngü -> i = Venessa\n",
    "# 4. döngü -> i = Miriam\n",
    "for i in students:\n",
    "    print(i)"
   ]
  },
  {
   "cell_type": "code",
   "execution_count": 33,
   "id": "4f4893b0-cd9e-417e-9dde-56b8a2b11aa7",
   "metadata": {},
   "outputs": [
    {
     "name": "stdout",
     "output_type": "stream",
     "text": [
      "0 John\n",
      "1 Mark\n",
      "2 Venessa\n",
      "3 Miriam\n"
     ]
    }
   ],
   "source": [
    "# enumarate ile değerlerin indexlerine erişilebilir.\n",
    "# i -> index\n",
    "# j -> değerler\n",
    "for i, j in enumerate(students):\n",
    "    print(i, j)"
   ]
  },
  {
   "cell_type": "code",
   "execution_count": 34,
   "id": "04650419-42f4-4cd1-97ac-5bdbee98d0e4",
   "metadata": {},
   "outputs": [
    {
     "name": "stdout",
     "output_type": "stream",
     "text": [
      "JOHN\n",
      "MARK\n",
      "VENESSA\n",
      "MIRIAM\n"
     ]
    }
   ],
   "source": [
    "for i in students:\n",
    "    print(i.upper())"
   ]
  },
  {
   "cell_type": "code",
   "execution_count": 35,
   "id": "8e986ce6-de45-41de-b9d7-b4cf2e49fa62",
   "metadata": {},
   "outputs": [
    {
     "name": "stdout",
     "output_type": "stream",
     "text": [
      "1200\n",
      "2400\n",
      "3600\n",
      "4800\n",
      "6000\n"
     ]
    }
   ],
   "source": [
    "salaries = [1000, 2000, 3000, 4000, 5000]\n",
    "def new_salary(salary, rate):\n",
    "    return int(salary * rate / 100 + salary)\n",
    "\n",
    "for i in salaries:\n",
    "    print(new_salary(i, 20))"
   ]
  },
  {
   "cell_type": "code",
   "execution_count": 36,
   "id": "19c1438a-6cbb-4865-a867-36507bb805ab",
   "metadata": {},
   "outputs": [
    {
     "name": "stdout",
     "output_type": "stream",
     "text": [
      "1300\n",
      "2600\n",
      "3450\n",
      "4600\n",
      "5750\n"
     ]
    }
   ],
   "source": [
    "for i in salaries:\n",
    "    if i >= 3000:\n",
    "        print(new_salary(i, 15))\n",
    "    else:\n",
    "        print(new_salary(i, 30))"
   ]
  },
  {
   "cell_type": "code",
   "execution_count": 37,
   "id": "7ec37786-da5a-416f-be60-80f2039bbda5",
   "metadata": {},
   "outputs": [
    {
     "name": "stdout",
     "output_type": "stream",
     "text": [
      "0\n",
      "1\n",
      "2\n",
      "3\n",
      "4\n"
     ]
    }
   ],
   "source": [
    "for i in range(0, 5):\n",
    "    print(i)"
   ]
  },
  {
   "cell_type": "code",
   "execution_count": 39,
   "id": "3375b8f1-06a7-4fc9-bc9c-783aefd05289",
   "metadata": {},
   "outputs": [
    {
     "name": "stdout",
     "output_type": "stream",
     "text": [
      "DaTa sCiEnCe\n"
     ]
    }
   ],
   "source": [
    "# range(len(string)) -> 0'dan string uzunlu kadar bir seri oluşturmaya yarar\n",
    "# Ör: range(0,10) 0'dan 10'a kadar bir seri oluşturur.\n",
    "# Ör: range(30, 20, -1) 30'dan 20'ye kadar birer azalan seri oluşturur.\n",
    "def alternating(string):\n",
    "    new_string = \"\"\n",
    "    for i in range(len(string)):\n",
    "        if i % 2 == 0:\n",
    "            new_string += string[i].upper()\n",
    "        else:\n",
    "            new_string += string[i].lower()\n",
    "    print(new_string)\n",
    "    \n",
    "\n",
    "alternating(\"data science\")"
   ]
  },
  {
   "cell_type": "markdown",
   "id": "614bb503-9840-463a-9b28-cc5a789ea969",
   "metadata": {},
   "source": [
    "### Break & Continue"
   ]
  },
  {
   "cell_type": "code",
   "execution_count": 40,
   "id": "510a5d71-66e9-447a-be7c-a5983368070b",
   "metadata": {},
   "outputs": [
    {
     "name": "stdout",
     "output_type": "stream",
     "text": [
      "1000\n",
      "2000\n"
     ]
    }
   ],
   "source": [
    "# Dögü break ifadesini gördüğü zaman döngüyü durdurur\n",
    "for i in salaries:\n",
    "    if i == 3000:\n",
    "        break\n",
    "    print(i)"
   ]
  },
  {
   "cell_type": "code",
   "execution_count": 42,
   "id": "3917461c-af95-4117-99bd-a34beca02549",
   "metadata": {},
   "outputs": [
    {
     "name": "stdout",
     "output_type": "stream",
     "text": [
      "1000\n",
      "2000\n",
      "4000\n",
      "5000\n"
     ]
    }
   ],
   "source": [
    "# Döngü continue ifadesini gördüğü zaman üzerinden atlar ve döngüye devam eder\n",
    "for i in salaries:\n",
    "    if i == 3000:\n",
    "        continue\n",
    "    print(i)"
   ]
  },
  {
   "cell_type": "markdown",
   "id": "83c928fb-3039-4930-93c0-5d8efd9fd206",
   "metadata": {},
   "source": [
    "### While\n",
    "##### \"iken\" anlamı vardır"
   ]
  },
  {
   "cell_type": "code",
   "execution_count": 43,
   "id": "b39d1ff2-4097-492c-9dd9-8869b3da0b3b",
   "metadata": {},
   "outputs": [
    {
     "name": "stdout",
     "output_type": "stream",
     "text": [
      "1\n",
      "2\n",
      "3\n",
      "4\n",
      "5\n"
     ]
    }
   ],
   "source": [
    "number = 1\n",
    "while number < 6:\n",
    "    print(number)\n",
    "    number += 1\n",
    "    \n",
    "# number 6'dan küçükken number değerini ekrana yaz ve numberı 1 arttır\n"
   ]
  },
  {
   "cell_type": "code",
   "execution_count": 47,
   "id": "59e49d59-2974-4eb8-9dac-fdaf6d9405c2",
   "metadata": {},
   "outputs": [
    {
     "data": {
      "text/plain": [
       "[['John', 'Venessa'], ['Mark', 'Miriam']]"
      ]
     },
     "execution_count": 47,
     "metadata": {},
     "output_type": "execute_result"
    }
   ],
   "source": [
    "list1 = []\n",
    "list2 = []\n",
    "\n",
    "for index, student in enumerate(students):\n",
    "    if index % 2 == 0:\n",
    "        list1.append(student)\n",
    "    else:\n",
    "        list2.append(student)\n",
    "        \n",
    "all_list = [list1, list2]\n",
    "all_list"
   ]
  },
  {
   "cell_type": "code",
   "execution_count": 49,
   "id": "664c4f6f-92db-4751-b7e5-dcc39ae0fd39",
   "metadata": {},
   "outputs": [
    {
     "name": "stdout",
     "output_type": "stream",
     "text": [
      "[['John', 'Venessa'], ['Mark', 'Miriam']]\n"
     ]
    }
   ],
   "source": [
    "def divide_students(students):\n",
    "    groups = [[], []]\n",
    "    for index, student in enumerate(students):\n",
    "        if index % 2 == 0:\n",
    "            groups[0].append(student)\n",
    "        else:\n",
    "            groups[1].append(student)\n",
    "    print(groups)\n",
    "\n",
    "    \n",
    "divide_students(students)"
   ]
  },
  {
   "cell_type": "code",
   "execution_count": 50,
   "id": "9bb7ec01-6364-4222-8b8a-dd1d5d583985",
   "metadata": {},
   "outputs": [
    {
     "name": "stdout",
     "output_type": "stream",
     "text": [
      "Hi mY NaMe iS SuLeYmAn aNd i aM LeArNiNg pYtHoN\n"
     ]
    }
   ],
   "source": [
    "def alternating1(string):\n",
    "    new_string = \"\"\n",
    "    for index, i in enumerate(string):\n",
    "        if index % 2 == 0:\n",
    "            new_string += i.upper()\n",
    "        else:\n",
    "            new_string += i.lower()\n",
    "    return new_string\n",
    "\n",
    "alternating(\"hi my name is suleyman and i am learning python\")"
   ]
  },
  {
   "cell_type": "markdown",
   "id": "30f2e74f-9e80-4cc7-b587-c4514ad33de9",
   "metadata": {},
   "source": [
    "### Zip\n",
    "###### Farklı listeleri indexleri eşleşecek biçimde birleştirir"
   ]
  },
  {
   "cell_type": "code",
   "execution_count": 51,
   "id": "5d7d125d-274d-4a5d-8836-a7240d5f1517",
   "metadata": {},
   "outputs": [
    {
     "data": {
      "text/plain": [
       "[('John', 'math', 23),\n",
       " ('Mark', 'statistics', 30),\n",
       " ('Venessa', 'physics', 26),\n",
       " ('Miriam', 'astronomy', 22)]"
      ]
     },
     "execution_count": 51,
     "metadata": {},
     "output_type": "execute_result"
    }
   ],
   "source": [
    "students = [\"John\", \"Mark\", \"Venessa\", \"Miriam\"]\n",
    "departments = [\"math\", \"statistics\", \"physics\", \"astronomy\"]\n",
    "ages = [23, 30, 26, 22]\n",
    "list(zip(students, departments, ages))"
   ]
  },
  {
   "cell_type": "markdown",
   "id": "439fa663-0709-4031-bff1-abf9ec3a0c17",
   "metadata": {},
   "source": [
    "### Lambda, map, filter, reduce"
   ]
  },
  {
   "cell_type": "code",
   "execution_count": 52,
   "id": "8b13cc6a-492e-4707-b732-676bb4acc76b",
   "metadata": {},
   "outputs": [
    {
     "data": {
      "text/plain": [
       "7"
      ]
     },
     "execution_count": 52,
     "metadata": {},
     "output_type": "execute_result"
    }
   ],
   "source": [
    "def summer(a, b):\n",
    "    return a + b\n",
    "\n",
    "\n",
    "summer(1, 3)\n",
    "# lambda ile isimsiz olarak kendi fonksiyonlarımızı oluşturabiliriz.\n",
    "new_sum = lambda a, b: a + b\n",
    "new_sum(2, 5)"
   ]
  },
  {
   "cell_type": "code",
   "execution_count": 53,
   "id": "7b6ca2e1-54dc-49c5-b31c-a15ebcc35bac",
   "metadata": {},
   "outputs": [
    {
     "data": {
      "text/plain": [
       "[1200.0, 2400.0, 3600.0, 4800.0, 6000.0]"
      ]
     },
     "execution_count": 53,
     "metadata": {},
     "output_type": "execute_result"
    }
   ],
   "source": [
    "salaries = [1000, 2000, 3000, 4000, 5000]\n",
    "# Map fonksiyonu belirlenen fonksiyonu, belirlenen veri yapısının tüm elemanlarına uygular\n",
    "list(map(lambda x: x * 20 / 100 + x, salaries))"
   ]
  },
  {
   "cell_type": "code",
   "execution_count": 54,
   "id": "f702c1c1-6bd3-4b80-a42f-4f580eceeb2e",
   "metadata": {},
   "outputs": [
    {
     "data": {
      "text/plain": [
       "[6, 7, 8, 9, 10]"
      ]
     },
     "execution_count": 54,
     "metadata": {},
     "output_type": "execute_result"
    }
   ],
   "source": [
    "list_store = [1, 2, 3, 4, 5, 6, 7, 8, 9, 10]\n",
    "# Filtreleme yapmamızı sağlar\n",
    "list(filter(lambda x: x % 2 == 0, list_store))\n",
    "list(filter(lambda x: x > 5, list_store))"
   ]
  },
  {
   "cell_type": "code",
   "execution_count": 56,
   "id": "36988522-861c-4c80-b0d3-38842a11f5e1",
   "metadata": {},
   "outputs": [
    {
     "data": {
      "text/plain": [
       "10"
      ]
     },
     "execution_count": 56,
     "metadata": {},
     "output_type": "execute_result"
    }
   ],
   "source": [
    "# Reduce\n",
    "from functools import reduce\n",
    "list_store = [1,2,3,4]\n",
    "reduce(lambda a, b: a + b, list_store)"
   ]
  },
  {
   "cell_type": "markdown",
   "id": "b316dfe0-ec76-4a5d-adeb-6da4caf47cbb",
   "metadata": {},
   "source": [
    "## List Comprehensions"
   ]
  },
  {
   "cell_type": "code",
   "execution_count": 57,
   "id": "9c938238-b94b-44d4-990b-16ba2707f48c",
   "metadata": {},
   "outputs": [
    {
     "data": {
      "text/plain": [
       "[1200.0, 2400.0, 3600.0, 4800.0, 6000.0]"
      ]
     },
     "execution_count": 57,
     "metadata": {},
     "output_type": "execute_result"
    }
   ],
   "source": [
    "salaries = [1000, 2000, 3000, 4000, 5000]\n",
    "\n",
    "\n",
    "def new_salary(x):\n",
    "    return x * 20 / 100 + x\n",
    "\n",
    "\n",
    "null_list = []\n",
    "for salary in salaries:\n",
    "    null_list.append(new_salary(salary))\n",
    "\n",
    "null_list"
   ]
  },
  {
   "cell_type": "code",
   "execution_count": 59,
   "id": "a43a9eda-757d-4da3-8163-0374cc0a90a5",
   "metadata": {},
   "outputs": [
    {
     "data": {
      "text/plain": [
       "[2000, 4000, 6000, 8000, 10000]"
      ]
     },
     "execution_count": 59,
     "metadata": {},
     "output_type": "execute_result"
    }
   ],
   "source": [
    "# List comprehensions ile tek satırda fonksiyonları kullanabiliriz\n",
    "[salary * 2 for salary in salaries]\n",
    "# Salaries listesi içerisindeki her bir gözlem 2 ile çarpıldı"
   ]
  },
  {
   "cell_type": "code",
   "execution_count": 60,
   "id": "0c981e8f-beea-47a3-844c-6269343ee4c0",
   "metadata": {},
   "outputs": [
    {
     "data": {
      "text/plain": [
       "[2000, 4000]"
      ]
     },
     "execution_count": 60,
     "metadata": {},
     "output_type": "execute_result"
    }
   ],
   "source": [
    "[salary * 2 for salary in salaries if salary < 3000]\n",
    "# Salaries listesi içerisindeki 3000'den düşük gözlemler 2 ile çarpıldı"
   ]
  },
  {
   "cell_type": "code",
   "execution_count": 61,
   "id": "92a68659-4018-48e1-a356-e6179e8a896e",
   "metadata": {},
   "outputs": [
    {
     "data": {
      "text/plain": [
       "[2000, 4000, 3900.0, 5200.0, 6500.0]"
      ]
     },
     "execution_count": 61,
     "metadata": {},
     "output_type": "execute_result"
    }
   ],
   "source": [
    "# Eğer if else yapısı kullanılacaksa for en sonda yer alır\n",
    "[salary * 2 if salary < 3000 else salary * 1.3 for salary in salaries]"
   ]
  },
  {
   "cell_type": "code",
   "execution_count": 62,
   "id": "4b809c06-c735-4dfe-af15-22625e20cf14",
   "metadata": {},
   "outputs": [
    {
     "data": {
      "text/plain": [
       "[1200.0, 2400.0, 2880.0, 3840.0, 4800.0]"
      ]
     },
     "execution_count": 62,
     "metadata": {},
     "output_type": "execute_result"
    }
   ],
   "source": [
    "# Daha önceden tanımlanana fonksiyonlar yapı içerisinde kullanılabilir\n",
    "[new_salary(salary) if salary < 3000 else new_salary(salary*0.8) for salary in salaries]"
   ]
  },
  {
   "cell_type": "code",
   "execution_count": 64,
   "id": "46772743-42cd-412c-8f5b-a9e5fd7ae7a7",
   "metadata": {},
   "outputs": [
    {
     "data": {
      "text/plain": [
       "['john', 'MARK', 'venessa', 'MIRIAM']"
      ]
     },
     "execution_count": 64,
     "metadata": {},
     "output_type": "execute_result"
    }
   ],
   "source": [
    "students = [\"john\", \"mark\", \"venessa\", \"miriam\"]\n",
    "students_no = [\"john\", \"venessa\"]\n",
    "\n",
    "[student.lower() if student in students_no else student.upper() for student in students]\n",
    "\n",
    "# students içerisinde students no içerisinde yer alan gözlemler küçültülürken olmayanlar büyütüldü"
   ]
  },
  {
   "cell_type": "markdown",
   "id": "b5df6c83-dbd7-4cfa-a4d3-20a648978207",
   "metadata": {},
   "source": [
    "## Dict Comprehension"
   ]
  },
  {
   "cell_type": "code",
   "execution_count": 67,
   "id": "f1f7403a-e93e-48cf-99ec-62577bf36bf6",
   "metadata": {},
   "outputs": [
    {
     "data": {
      "text/plain": [
       "dict_items([('a', 1), ('b', 2), ('c', 3), ('d', 4)])"
      ]
     },
     "execution_count": 67,
     "metadata": {},
     "output_type": "execute_result"
    }
   ],
   "source": [
    "dictionary = {\"a\" : 1,\n",
    "              \"b\" : 2,\n",
    "              \"c\" : 3,\n",
    "              \"d\" : 4}\n",
    "dictionary.items()"
   ]
  },
  {
   "cell_type": "code",
   "execution_count": 68,
   "id": "f2944689-29c8-497c-bdc6-082d113bf46f",
   "metadata": {},
   "outputs": [
    {
     "data": {
      "text/plain": [
       "{'a': 1, 'b': 4, 'c': 9, 'd': 16}"
      ]
     },
     "execution_count": 68,
     "metadata": {},
     "output_type": "execute_result"
    }
   ],
   "source": [
    "{k: v ** 2 for (k, v) in dictionary.items()}\n",
    "# k key değerlerini tutarken v value değerlerini tuttu"
   ]
  },
  {
   "cell_type": "code",
   "execution_count": 69,
   "id": "5333232d-52b0-4cf0-8a8e-25c580221a53",
   "metadata": {},
   "outputs": [
    {
     "data": {
      "text/plain": [
       "{'A': 1, 'B': 4, 'C': 9, 'D': 16}"
      ]
     },
     "execution_count": 69,
     "metadata": {},
     "output_type": "execute_result"
    }
   ],
   "source": [
    "{k.upper(): v ** 2 for (k, v) in dictionary.items()}"
   ]
  },
  {
   "cell_type": "code",
   "execution_count": 74,
   "id": "eddb105f-0cab-4bff-9ec2-9cbbcc953ab5",
   "metadata": {},
   "outputs": [
    {
     "data": {
      "text/plain": [
       "{0: 0, 2: 4, 4: 16, 6: 36, 8: 64}"
      ]
     },
     "execution_count": 74,
     "metadata": {},
     "output_type": "execute_result"
    }
   ],
   "source": [
    "numbers = range(10)\n",
    "new_dict = {}\n",
    "\n",
    "for n in numbers:\n",
    "    if n % 2 == 0:\n",
    "        new_dict[n] = n ** 2\n",
    "new_dict"
   ]
  },
  {
   "cell_type": "code",
   "execution_count": 75,
   "id": "aaada033-9e85-4c21-943b-4db15b651916",
   "metadata": {},
   "outputs": [
    {
     "data": {
      "text/plain": [
       "{0: 0, 2: 4, 4: 16, 6: 36, 8: 64}"
      ]
     },
     "execution_count": 75,
     "metadata": {},
     "output_type": "execute_result"
    }
   ],
   "source": [
    "{n: n ** 2 for n in numbers if n % 2 == 0}"
   ]
  },
  {
   "cell_type": "code",
   "execution_count": null,
   "id": "454e46ff-d576-412c-a29e-0731896b1d2e",
   "metadata": {},
   "outputs": [],
   "source": []
  }
 ],
 "metadata": {
  "kernelspec": {
   "display_name": "Python 3 (ipykernel)",
   "language": "python",
   "name": "python3"
  },
  "language_info": {
   "codemirror_mode": {
    "name": "ipython",
    "version": 3
   },
   "file_extension": ".py",
   "mimetype": "text/x-python",
   "name": "python",
   "nbconvert_exporter": "python",
   "pygments_lexer": "ipython3",
   "version": "3.9.12"
  }
 },
 "nbformat": 4,
 "nbformat_minor": 5
}
