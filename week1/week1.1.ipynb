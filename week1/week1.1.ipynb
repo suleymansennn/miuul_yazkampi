{
 "cells": [
  {
   "cell_type": "markdown",
   "id": "bc572fd5-1132-450d-a7c5-b2fd139a5e62",
   "metadata": {},
   "source": [
    "# MIUUL Yaz Kampı Hafta 1.1\n",
    "#### Veri Bilimi için Python Programlama"
   ]
  },
  {
   "cell_type": "markdown",
   "id": "d24221c9-e35f-4bc6-a02a-0c920796be6c",
   "metadata": {},
   "source": [
    "### Package Managment"
   ]
  },
  {
   "cell_type": "code",
   "execution_count": 2,
   "id": "c0984e35-7fb7-4aa1-8d70-c86a18e94823",
   "metadata": {},
   "outputs": [],
   "source": [
    "# Sanal Ortamlarin Listelenmesi\n",
    "# conda env list\n",
    "\n",
    "# Sanal Ortam Olusturma\n",
    "# conda create -n myenv\n",
    "# conda create -n myenv python=3.9\n",
    "\n",
    "# Sanal Ortami Aktif etme\n",
    "# conda activate meyenv\n",
    "\n",
    "# Yuklu paketleri gormek icin;\n",
    "# conda list\n",
    "\n",
    "# Paket Yukleme\n",
    "#conda install numpy\n",
    "#conda install numpy scipy pandas\n",
    "\n",
    "# Paket silme\n",
    "# conda remove\n",
    "\n",
    "# Versiyon yukleme\n",
    "# conda install numpy=1.20.1\n",
    "\n",
    "# Versiyon yukseltme\n",
    "# conda upgrade numpy\n",
    "# conda upgrade --all Tum paketler guncellenir\n",
    "\n",
    "# Paketlerin dosyasini olusturma\n",
    "# conda env export > enviroment.yaml\n",
    "\n",
    "# conda deactivate\n",
    "# conda env remove -n myenv\n",
    "\n",
    "# Dosyadan yukleme\n",
    "# conda env create -f enviroment.yaml\n",
    "\n",
    "#####################\n",
    "\n",
    "# pip install paket_adi\n",
    "# pip install pandas==1.2.1"
   ]
  },
  {
   "cell_type": "markdown",
   "id": "4b0b77d7-d4c7-45af-9f2e-5eac89889592",
   "metadata": {},
   "source": [
    "### Data Structures"
   ]
  },
  {
   "cell_type": "markdown",
   "id": "60740c59-7999-48f9-a26f-7e1b16723fe1",
   "metadata": {},
   "source": [
    "#### Numbers"
   ]
  },
  {
   "cell_type": "code",
   "execution_count": 8,
   "id": "aad4e7f8-16a8-4fde-9a4b-13d6fb1adafc",
   "metadata": {},
   "outputs": [
    {
     "data": {
      "text/plain": [
       "int"
      ]
     },
     "execution_count": 8,
     "metadata": {},
     "output_type": "execute_result"
    }
   ],
   "source": [
    "x = 46\n",
    "type(x)"
   ]
  },
  {
   "cell_type": "code",
   "execution_count": 5,
   "id": "c1032f75-7349-432b-bea9-bdfaa27965b1",
   "metadata": {},
   "outputs": [
    {
     "data": {
      "text/plain": [
       "float"
      ]
     },
     "execution_count": 5,
     "metadata": {},
     "output_type": "execute_result"
    }
   ],
   "source": [
    "x = 46.2\n",
    "type(x)"
   ]
  },
  {
   "cell_type": "code",
   "execution_count": 6,
   "id": "b092150c-aa50-4be8-819c-4e9cdd7c1242",
   "metadata": {},
   "outputs": [
    {
     "data": {
      "text/plain": [
       "complex"
      ]
     },
     "execution_count": 6,
     "metadata": {},
     "output_type": "execute_result"
    }
   ],
   "source": [
    "x = 2j+1\n",
    "type(x)"
   ]
  },
  {
   "cell_type": "markdown",
   "id": "a5dcbcee-e71a-4e1f-9e3d-ae74a4770bc4",
   "metadata": {},
   "source": [
    "#### String"
   ]
  },
  {
   "cell_type": "code",
   "execution_count": 9,
   "id": "8597823f-fd72-4bef-98fc-8b66efcc2210",
   "metadata": {},
   "outputs": [
    {
     "data": {
      "text/plain": [
       "str"
      ]
     },
     "execution_count": 9,
     "metadata": {},
     "output_type": "execute_result"
    }
   ],
   "source": [
    "x = \"Hello AI Era\"\n",
    "type(x)"
   ]
  },
  {
   "cell_type": "markdown",
   "id": "cff2438c-5c52-4837-b5ef-94031f59b06c",
   "metadata": {},
   "source": [
    "#### Bool"
   ]
  },
  {
   "cell_type": "code",
   "execution_count": 14,
   "id": "e1a5cf8a-8724-489e-a24c-a32926f13c75",
   "metadata": {},
   "outputs": [
    {
     "data": {
      "text/plain": [
       "(True, False)"
      ]
     },
     "execution_count": 14,
     "metadata": {},
     "output_type": "execute_result"
    }
   ],
   "source": [
    "True, False"
   ]
  },
  {
   "cell_type": "code",
   "execution_count": 13,
   "id": "fc10deb9-9602-43cf-a0ce-65ed888479f8",
   "metadata": {},
   "outputs": [
    {
     "data": {
      "text/plain": [
       "(False, True, bool)"
      ]
     },
     "execution_count": 13,
     "metadata": {},
     "output_type": "execute_result"
    }
   ],
   "source": [
    "5 == 4, 1 == 1, type(3 == 2)"
   ]
  },
  {
   "cell_type": "markdown",
   "id": "d31489d5-7ecc-4148-86ec-b30c2c06c47a",
   "metadata": {},
   "source": [
    "#### List"
   ]
  },
  {
   "cell_type": "code",
   "execution_count": 15,
   "id": "72da9e8a-2077-4be4-b8e4-a4500754d587",
   "metadata": {},
   "outputs": [
    {
     "data": {
      "text/plain": [
       "list"
      ]
     },
     "execution_count": 15,
     "metadata": {},
     "output_type": "execute_result"
    }
   ],
   "source": [
    "x = [\"btc\", \"eth\", \"xrp\"]\n",
    "type(x)"
   ]
  },
  {
   "cell_type": "markdown",
   "id": "4604279a-6310-4c85-a6eb-48041dc3f4e5",
   "metadata": {},
   "source": [
    "#### Dictionary"
   ]
  },
  {
   "cell_type": "code",
   "execution_count": 17,
   "id": "920dbbb2-c8ca-40f8-a43f-4149ea12db48",
   "metadata": {},
   "outputs": [
    {
     "data": {
      "text/plain": [
       "dict"
      ]
     },
     "execution_count": 17,
     "metadata": {},
     "output_type": "execute_result"
    }
   ],
   "source": [
    "x = {\"name\": \"Peter\", \"Age\": 36}\n",
    "type(x)"
   ]
  },
  {
   "cell_type": "markdown",
   "id": "dd25d26a-e9a6-4e31-bbf8-3c8e754d0697",
   "metadata": {},
   "source": [
    "#### Tuple"
   ]
  },
  {
   "cell_type": "code",
   "execution_count": 19,
   "id": "f5c22649-08ac-42b2-8761-5e5d2ae8a87e",
   "metadata": {},
   "outputs": [
    {
     "data": {
      "text/plain": [
       "tuple"
      ]
     },
     "execution_count": 19,
     "metadata": {},
     "output_type": "execute_result"
    }
   ],
   "source": [
    "x = (\"python\", \"ml\", \"ds\")\n",
    "type(x)"
   ]
  },
  {
   "cell_type": "markdown",
   "id": "dd47fafe-42e7-4443-8d47-b2f8b064a4cb",
   "metadata": {},
   "source": [
    "#### Set"
   ]
  },
  {
   "cell_type": "code",
   "execution_count": 21,
   "id": "aa24aeab-a049-4b00-9371-f11536c6fbb6",
   "metadata": {},
   "outputs": [
    {
     "data": {
      "text/plain": [
       "set"
      ]
     },
     "execution_count": 21,
     "metadata": {},
     "output_type": "execute_result"
    }
   ],
   "source": [
    "x = {\"python\", \"ml\", \"ds\"}\n",
    "type(x)"
   ]
  },
  {
   "cell_type": "markdown",
   "id": "8f249586-9a97-4dc9-93c0-f619169bb5ad",
   "metadata": {},
   "source": [
    "### Type Change"
   ]
  },
  {
   "cell_type": "code",
   "execution_count": 22,
   "id": "93cf1bce-17f4-4d03-a7e3-f6615defa9e8",
   "metadata": {},
   "outputs": [
    {
     "data": {
      "text/plain": [
       "6.0"
      ]
     },
     "execution_count": 22,
     "metadata": {},
     "output_type": "execute_result"
    }
   ],
   "source": [
    "int(6.5) #float to int\n",
    "float(6) # int to float"
   ]
  },
  {
   "cell_type": "code",
   "execution_count": 23,
   "id": "c95666f8-5888-49ba-8c4f-aa8438290929",
   "metadata": {},
   "outputs": [
    {
     "data": {
      "text/plain": [
       "float"
      ]
     },
     "execution_count": 23,
     "metadata": {},
     "output_type": "execute_result"
    }
   ],
   "source": [
    "a = 6\n",
    "b = 6.5\n",
    "int(a * b / 10)\n",
    "c = a * b / 10\n",
    "type(c)"
   ]
  },
  {
   "cell_type": "markdown",
   "id": "a98f4677-e5aa-4485-b03a-5282c67074da",
   "metadata": {},
   "source": [
    "### String"
   ]
  },
  {
   "cell_type": "code",
   "execution_count": 24,
   "id": "6671857f-d96f-42d2-83c5-1911bef056aa",
   "metadata": {},
   "outputs": [
    {
     "data": {
      "text/plain": [
       "'\\nNumbers = int, float, complex\\nString = str\\nList, Dictionary, Tuple, Set\\nBoolean\\n'"
      ]
     },
     "execution_count": 24,
     "metadata": {},
     "output_type": "execute_result"
    }
   ],
   "source": [
    "name = \"John\"\n",
    "\n",
    "long_str = \"\"\"\n",
    "Numbers = int, float, complex\n",
    "String = str\n",
    "List, Dictionary, Tuple, Set\n",
    "Boolean\n",
    "\"\"\"\n",
    "long_str"
   ]
  },
  {
   "cell_type": "markdown",
   "id": "871cab1c-4780-42cc-9b2f-c085329ec063",
   "metadata": {},
   "source": [
    "#### Slicing Strings"
   ]
  },
  {
   "cell_type": "code",
   "execution_count": 26,
   "id": "aa42ecd9-5c18-49ab-83d9-f577eb8a8541",
   "metadata": {},
   "outputs": [
    {
     "data": {
      "text/plain": [
       "('J', 'o', 'h')"
      ]
     },
     "execution_count": 26,
     "metadata": {},
     "output_type": "execute_result"
    }
   ],
   "source": [
    "name[0], name[1], name[2]"
   ]
  },
  {
   "cell_type": "code",
   "execution_count": 27,
   "id": "a506125a-944a-476e-9f70-2229e960c6c5",
   "metadata": {},
   "outputs": [
    {
     "data": {
      "text/plain": [
       "'Jo'"
      ]
     },
     "execution_count": 27,
     "metadata": {},
     "output_type": "execute_result"
    }
   ],
   "source": [
    "name[0:2]"
   ]
  },
  {
   "cell_type": "code",
   "execution_count": 28,
   "id": "6a2e4435-7ba6-4b82-ad4c-147f5c51860c",
   "metadata": {},
   "outputs": [
    {
     "data": {
      "text/plain": [
       "'\\nNumbers ='"
      ]
     },
     "execution_count": 28,
     "metadata": {},
     "output_type": "execute_result"
    }
   ],
   "source": [
    "long_str[0:10]"
   ]
  },
  {
   "cell_type": "markdown",
   "id": "af5185c0-26a9-48a0-9644-069e2f500685",
   "metadata": {},
   "source": [
    "#### İs in?"
   ]
  },
  {
   "cell_type": "code",
   "execution_count": 31,
   "id": "6d410a6f-8bee-4ed2-9eab-ebf920085c6f",
   "metadata": {},
   "outputs": [
    {
     "data": {
      "text/plain": [
       "False"
      ]
     },
     "execution_count": 31,
     "metadata": {},
     "output_type": "execute_result"
    }
   ],
   "source": [
    "\"veri\" in long_str"
   ]
  },
  {
   "cell_type": "code",
   "execution_count": 34,
   "id": "b853bbc6-7a6d-42c7-ac19-45bd39e50a72",
   "metadata": {},
   "outputs": [
    {
     "data": {
      "text/plain": [
       "True"
      ]
     },
     "execution_count": 34,
     "metadata": {},
     "output_type": "execute_result"
    }
   ],
   "source": [
    "\"str\" in long_str"
   ]
  },
  {
   "cell_type": "code",
   "execution_count": 33,
   "id": "a0c49dfc-65a6-43ed-805b-5a014c589a23",
   "metadata": {},
   "outputs": [
    {
     "data": {
      "text/plain": [
       "False"
      ]
     },
     "execution_count": 33,
     "metadata": {},
     "output_type": "execute_result"
    }
   ],
   "source": [
    "\"bool\" in long_str"
   ]
  },
  {
   "cell_type": "markdown",
   "id": "59a6a6bb-b8cd-4a6d-900d-182537eed7af",
   "metadata": {},
   "source": [
    "### String Methods"
   ]
  },
  {
   "cell_type": "code",
   "execution_count": 35,
   "id": "e2acf282-7aa0-48ce-8b47-4f391090138f",
   "metadata": {},
   "outputs": [
    {
     "data": {
      "text/plain": [
       "['__add__',\n",
       " '__class__',\n",
       " '__contains__',\n",
       " '__delattr__',\n",
       " '__dir__',\n",
       " '__doc__',\n",
       " '__eq__',\n",
       " '__format__',\n",
       " '__ge__',\n",
       " '__getattribute__',\n",
       " '__getitem__',\n",
       " '__getnewargs__',\n",
       " '__gt__',\n",
       " '__hash__',\n",
       " '__init__',\n",
       " '__init_subclass__',\n",
       " '__iter__',\n",
       " '__le__',\n",
       " '__len__',\n",
       " '__lt__',\n",
       " '__mod__',\n",
       " '__mul__',\n",
       " '__ne__',\n",
       " '__new__',\n",
       " '__reduce__',\n",
       " '__reduce_ex__',\n",
       " '__repr__',\n",
       " '__rmod__',\n",
       " '__rmul__',\n",
       " '__setattr__',\n",
       " '__sizeof__',\n",
       " '__str__',\n",
       " '__subclasshook__',\n",
       " 'capitalize',\n",
       " 'casefold',\n",
       " 'center',\n",
       " 'count',\n",
       " 'encode',\n",
       " 'endswith',\n",
       " 'expandtabs',\n",
       " 'find',\n",
       " 'format',\n",
       " 'format_map',\n",
       " 'index',\n",
       " 'isalnum',\n",
       " 'isalpha',\n",
       " 'isascii',\n",
       " 'isdecimal',\n",
       " 'isdigit',\n",
       " 'isidentifier',\n",
       " 'islower',\n",
       " 'isnumeric',\n",
       " 'isprintable',\n",
       " 'isspace',\n",
       " 'istitle',\n",
       " 'isupper',\n",
       " 'join',\n",
       " 'ljust',\n",
       " 'lower',\n",
       " 'lstrip',\n",
       " 'maketrans',\n",
       " 'partition',\n",
       " 'removeprefix',\n",
       " 'removesuffix',\n",
       " 'replace',\n",
       " 'rfind',\n",
       " 'rindex',\n",
       " 'rjust',\n",
       " 'rpartition',\n",
       " 'rsplit',\n",
       " 'rstrip',\n",
       " 'split',\n",
       " 'splitlines',\n",
       " 'startswith',\n",
       " 'strip',\n",
       " 'swapcase',\n",
       " 'title',\n",
       " 'translate',\n",
       " 'upper',\n",
       " 'zfill']"
      ]
     },
     "execution_count": 35,
     "metadata": {},
     "output_type": "execute_result"
    }
   ],
   "source": [
    "dir(str)"
   ]
  },
  {
   "cell_type": "code",
   "execution_count": 36,
   "id": "06bd9865-47ff-4568-b7d8-d7fed27476e2",
   "metadata": {},
   "outputs": [
    {
     "data": {
      "text/plain": [
       "str"
      ]
     },
     "execution_count": 36,
     "metadata": {},
     "output_type": "execute_result"
    }
   ],
   "source": [
    "name = \"Suleyman\"\n",
    "type(name)"
   ]
  },
  {
   "cell_type": "code",
   "execution_count": 37,
   "id": "d75c51ef-7225-447a-bbd5-efe66ac10933",
   "metadata": {},
   "outputs": [
    {
     "data": {
      "text/plain": [
       "8"
      ]
     },
     "execution_count": 37,
     "metadata": {},
     "output_type": "execute_result"
    }
   ],
   "source": [
    "# Length of String\n",
    "len(name)"
   ]
  },
  {
   "cell_type": "code",
   "execution_count": 38,
   "id": "766d6969-19e6-4942-8c63-527ee6b3367e",
   "metadata": {},
   "outputs": [
    {
     "data": {
      "text/plain": [
       "12"
      ]
     },
     "execution_count": 38,
     "metadata": {},
     "output_type": "execute_result"
    }
   ],
   "source": [
    "len(\"Data Science\")"
   ]
  },
  {
   "cell_type": "code",
   "execution_count": 39,
   "id": "74e5cb4e-7bd9-49bd-96ad-fd6c25c3c1d5",
   "metadata": {},
   "outputs": [
    {
     "data": {
      "text/plain": [
       "'DATA_SCIENCE'"
      ]
     },
     "execution_count": 39,
     "metadata": {},
     "output_type": "execute_result"
    }
   ],
   "source": [
    "# Upper & Lower\n",
    "\"data_science\".upper()"
   ]
  },
  {
   "cell_type": "code",
   "execution_count": 40,
   "id": "ae1a403f-b94e-4d98-9af3-d61cf697114a",
   "metadata": {},
   "outputs": [
    {
     "data": {
      "text/plain": [
       "'machine learning'"
      ]
     },
     "execution_count": 40,
     "metadata": {},
     "output_type": "execute_result"
    }
   ],
   "source": [
    "\"Machine Learning\".lower()"
   ]
  },
  {
   "cell_type": "code",
   "execution_count": 41,
   "id": "5007819c-983f-4827-aac4-6b6957f2b0c1",
   "metadata": {},
   "outputs": [
    {
     "data": {
      "text/plain": [
       "'Heppo AI Era.'"
      ]
     },
     "execution_count": 41,
     "metadata": {},
     "output_type": "execute_result"
    }
   ],
   "source": [
    "# Replace\n",
    "hi = \"Hello AI Era.\"\n",
    "hi.replace(\"l\", \"p\")"
   ]
  },
  {
   "cell_type": "code",
   "execution_count": 42,
   "id": "257b88b5-e1a9-4b39-a4e6-933fffab66a5",
   "metadata": {},
   "outputs": [
    {
     "data": {
      "text/plain": [
       "['Hello', 'AI', 'Era.']"
      ]
     },
     "execution_count": 42,
     "metadata": {},
     "output_type": "execute_result"
    }
   ],
   "source": [
    "# Split\n",
    "hi.split()\n",
    "# Stringi verilen karaktere göre parçalar\n",
    "# Varsayılan olarak \" \" "
   ]
  },
  {
   "cell_type": "code",
   "execution_count": 43,
   "id": "a79cf6e7-008f-4e30-bd4b-a075b0bf6fe8",
   "metadata": {},
   "outputs": [
    {
     "data": {
      "text/plain": [
       "['Hello', 'AI', 'Era']"
      ]
     },
     "execution_count": 43,
     "metadata": {},
     "output_type": "execute_result"
    }
   ],
   "source": [
    "\"Hello_AI_Era\".split(\"_\")"
   ]
  },
  {
   "cell_type": "code",
   "execution_count": 44,
   "id": "b9fa58b5-3c4e-46e7-bbc3-7239ad6cdcf5",
   "metadata": {},
   "outputs": [
    {
     "data": {
      "text/plain": [
       "'Data science'"
      ]
     },
     "execution_count": 44,
     "metadata": {},
     "output_type": "execute_result"
    }
   ],
   "source": [
    "# Capitalize\n",
    "\"data science\".capitalize()"
   ]
  },
  {
   "cell_type": "code",
   "execution_count": 46,
   "id": "5c3eca3c-a89c-45b4-bfe3-badf53326fcf",
   "metadata": {},
   "outputs": [
    {
     "data": {
      "text/plain": [
       "True"
      ]
     },
     "execution_count": 46,
     "metadata": {},
     "output_type": "execute_result"
    }
   ],
   "source": [
    "# Startswith\n",
    "\"data science\".startswith(\"da\")"
   ]
  },
  {
   "cell_type": "code",
   "execution_count": 47,
   "id": "ca7b5f5c-22df-4ccb-9d90-bb09b4be9483",
   "metadata": {},
   "outputs": [
    {
     "data": {
      "text/plain": [
       "False"
      ]
     },
     "execution_count": 47,
     "metadata": {},
     "output_type": "execute_result"
    }
   ],
   "source": [
    "\"data science\".startswith(\"Data\")"
   ]
  },
  {
   "cell_type": "markdown",
   "id": "16427ef3-4c66-4361-8abc-73d65fb156c9",
   "metadata": {},
   "source": [
    "## Listeler"
   ]
  },
  {
   "cell_type": "markdown",
   "id": "818816c6-82d8-4e88-800a-279b2105dacd",
   "metadata": {},
   "source": [
    "##### Değiştirilebilir\n",
    "##### Sıralı\n",
    "##### Kapsayici (İçerisinde farklı yapıdan veri depolayabilir)"
   ]
  },
  {
   "cell_type": "code",
   "execution_count": 48,
   "id": "2aa725de-92aa-4aa6-8399-c41c4b7369db",
   "metadata": {},
   "outputs": [
    {
     "data": {
      "text/plain": [
       "list"
      ]
     },
     "execution_count": 48,
     "metadata": {},
     "output_type": "execute_result"
    }
   ],
   "source": [
    "# Liste Oluşturma\n",
    "notes = [1, 2, 3, 4]\n",
    "type(notes)"
   ]
  },
  {
   "cell_type": "code",
   "execution_count": 55,
   "id": "40d57fb2-6823-4b7c-ae06-f34faca28a26",
   "metadata": {},
   "outputs": [],
   "source": [
    "# Kapsayıcı Özelliği\n",
    "names = [\"a\", \"b\", \"c\", \"d\"]\n",
    "not_nam = [1, 2, 3, \"a\", \"b\", True, [1, 2, 3]]"
   ]
  },
  {
   "cell_type": "code",
   "execution_count": 50,
   "id": "57ed057d-377f-47c3-b2d0-6c8c22bdb58c",
   "metadata": {},
   "outputs": [
    {
     "data": {
      "text/plain": [
       "2"
      ]
     },
     "execution_count": 50,
     "metadata": {},
     "output_type": "execute_result"
    }
   ],
   "source": [
    "# Sıralı Özelliği\n",
    "not_nam[0]\n",
    "not_nam[5]\n",
    "not_nam[6]\n",
    "not_nam[6][1]"
   ]
  },
  {
   "cell_type": "code",
   "execution_count": 52,
   "id": "7f28b1d2-d1de-4774-9b5a-0874956ed15d",
   "metadata": {},
   "outputs": [
    {
     "data": {
      "text/plain": [
       "list"
      ]
     },
     "execution_count": 52,
     "metadata": {},
     "output_type": "execute_result"
    }
   ],
   "source": [
    "type(not_nam[6])"
   ]
  },
  {
   "cell_type": "code",
   "execution_count": 53,
   "id": "99a53a45-8d95-4485-80a1-4ede2e99cbe5",
   "metadata": {},
   "outputs": [
    {
     "data": {
      "text/plain": [
       "int"
      ]
     },
     "execution_count": 53,
     "metadata": {},
     "output_type": "execute_result"
    }
   ],
   "source": [
    "type(not_nam[6][1])"
   ]
  },
  {
   "cell_type": "code",
   "execution_count": 57,
   "id": "b0232f81-6163-4488-94da-852b3edcb892",
   "metadata": {},
   "outputs": [
    {
     "data": {
      "text/plain": [
       "[99, 2, 3, 'a', 'b', True, [1, 2, 3]]"
      ]
     },
     "execution_count": 57,
     "metadata": {},
     "output_type": "execute_result"
    }
   ],
   "source": [
    "# Değiştirilebilir \n",
    "not_nam[0] = 99\n",
    "not_nam"
   ]
  },
  {
   "cell_type": "markdown",
   "id": "8b42c6df-4ca8-41e5-a4a3-848187275a71",
   "metadata": {},
   "source": [
    "### Liste Metodları"
   ]
  },
  {
   "cell_type": "code",
   "execution_count": 58,
   "id": "a17ba675-baf1-4dbd-ab9c-829d62c2b29b",
   "metadata": {},
   "outputs": [
    {
     "data": {
      "text/plain": [
       "['__add__',\n",
       " '__class__',\n",
       " '__class_getitem__',\n",
       " '__contains__',\n",
       " '__delattr__',\n",
       " '__delitem__',\n",
       " '__dir__',\n",
       " '__doc__',\n",
       " '__eq__',\n",
       " '__format__',\n",
       " '__ge__',\n",
       " '__getattribute__',\n",
       " '__getitem__',\n",
       " '__gt__',\n",
       " '__hash__',\n",
       " '__iadd__',\n",
       " '__imul__',\n",
       " '__init__',\n",
       " '__init_subclass__',\n",
       " '__iter__',\n",
       " '__le__',\n",
       " '__len__',\n",
       " '__lt__',\n",
       " '__mul__',\n",
       " '__ne__',\n",
       " '__new__',\n",
       " '__reduce__',\n",
       " '__reduce_ex__',\n",
       " '__repr__',\n",
       " '__reversed__',\n",
       " '__rmul__',\n",
       " '__setattr__',\n",
       " '__setitem__',\n",
       " '__sizeof__',\n",
       " '__str__',\n",
       " '__subclasshook__',\n",
       " 'append',\n",
       " 'clear',\n",
       " 'copy',\n",
       " 'count',\n",
       " 'extend',\n",
       " 'index',\n",
       " 'insert',\n",
       " 'pop',\n",
       " 'remove',\n",
       " 'reverse',\n",
       " 'sort']"
      ]
     },
     "execution_count": 58,
     "metadata": {},
     "output_type": "execute_result"
    }
   ],
   "source": [
    "dir(list)"
   ]
  },
  {
   "cell_type": "code",
   "execution_count": 59,
   "id": "fc502d2e-5d49-4db2-a69a-9b2ab1beaddb",
   "metadata": {},
   "outputs": [
    {
     "data": {
      "text/plain": [
       "7"
      ]
     },
     "execution_count": 59,
     "metadata": {},
     "output_type": "execute_result"
    }
   ],
   "source": [
    "# len (uzunluk)\n",
    "len(not_nam)"
   ]
  },
  {
   "cell_type": "code",
   "execution_count": 63,
   "id": "75f9af4a-e220-4012-ab41-ab0f4f74c3f5",
   "metadata": {},
   "outputs": [
    {
     "data": {
      "text/plain": [
       "[1, 2, 3, 4, 11]"
      ]
     },
     "execution_count": 63,
     "metadata": {},
     "output_type": "execute_result"
    }
   ],
   "source": [
    "# append (liste sonunda eleman ekler)\n",
    "lst = [1,2,3,4]\n",
    "lst.append(11)\n",
    "lst"
   ]
  },
  {
   "cell_type": "code",
   "execution_count": 64,
   "id": "c37fc713-179e-4f82-a530-1f3df0cc6bde",
   "metadata": {},
   "outputs": [
    {
     "data": {
      "text/plain": [
       "[1, 2, 3, 4]"
      ]
     },
     "execution_count": 64,
     "metadata": {},
     "output_type": "execute_result"
    }
   ],
   "source": [
    "# pop (belirlenen indexteki eleamanı siler)\n",
    "lst.pop(4)\n",
    "lst"
   ]
  },
  {
   "cell_type": "code",
   "execution_count": 65,
   "id": "d32f1428-cf37-45ba-b211-6b5d2c89d525",
   "metadata": {},
   "outputs": [
    {
     "data": {
      "text/plain": [
       "[1, 2, ['a', 'b', 'c'], 3, 4]"
      ]
     },
     "execution_count": 65,
     "metadata": {},
     "output_type": "execute_result"
    }
   ],
   "source": [
    "# insert (belirlenen indexe eleman ekler)\n",
    "lst.insert(2, [\"a\",\"b\",\"c\"])\n",
    "lst"
   ]
  },
  {
   "cell_type": "code",
   "execution_count": 70,
   "id": "9b04d96c-f9f9-4a6d-9e0d-50a0d058853e",
   "metadata": {},
   "outputs": [],
   "source": [
    "# sort (listeyi küçükten büyüğe sıralar)\n",
    "lst1 = [54,21,11,35,77,19,48]"
   ]
  },
  {
   "cell_type": "code",
   "execution_count": 71,
   "id": "2cd0da30-bce0-471b-8f0b-5aec036a1b91",
   "metadata": {},
   "outputs": [
    {
     "data": {
      "text/plain": [
       "[11, 19, 21, 35, 48, 54, 77]"
      ]
     },
     "execution_count": 71,
     "metadata": {},
     "output_type": "execute_result"
    }
   ],
   "source": [
    "lst1.sort()\n",
    "lst1"
   ]
  },
  {
   "cell_type": "code",
   "execution_count": 72,
   "id": "79590493-0a6b-4d91-abb6-cdbcb1bedae7",
   "metadata": {},
   "outputs": [
    {
     "data": {
      "text/plain": [
       "[77, 54, 48, 35, 21, 19, 11]"
      ]
     },
     "execution_count": 72,
     "metadata": {},
     "output_type": "execute_result"
    }
   ],
   "source": [
    "# Büyükten küçüğe sıralama\n",
    "lst1.sort(reverse = True)\n",
    "lst1"
   ]
  },
  {
   "cell_type": "code",
   "execution_count": 73,
   "id": "e251c6e3-5bcc-431d-af09-009d27944739",
   "metadata": {},
   "outputs": [
    {
     "data": {
      "text/plain": [
       "[1, 2, 3, 4, 'suleyman', 'ege', 'sedat']"
      ]
     },
     "execution_count": 73,
     "metadata": {},
     "output_type": "execute_result"
    }
   ],
   "source": [
    "# extend (iki listeyi uç uca ekler) \n",
    "names = [\"suleyman\", \"ege\", \"sedat\"]\n",
    "notes.extend(names)\n",
    "notes"
   ]
  },
  {
   "cell_type": "markdown",
   "id": "a8341dfe-4054-457a-a0be-8feaae13c8be",
   "metadata": {},
   "source": [
    "## Dictionary"
   ]
  },
  {
   "cell_type": "markdown",
   "id": "9396ff29-2086-4a93-8e7b-ecd753d635b5",
   "metadata": {},
   "source": [
    "##### Degistirilebilir\n",
    "##### Sirasiz (3.7'den sonra sirali)\n",
    "##### Kapsayici"
   ]
  },
  {
   "cell_type": "code",
   "execution_count": 74,
   "id": "a55e1dff-d342-45a4-99eb-ab647c23e0fa",
   "metadata": {},
   "outputs": [
    {
     "data": {
      "text/plain": [
       "dict"
      ]
     },
     "execution_count": 74,
     "metadata": {},
     "output_type": "execute_result"
    }
   ],
   "source": [
    "# Dictionary Oluşturma\n",
    "dictionary = {\"REG\" : \"Regression\",\n",
    "              \"LOG\" : \"Logistic\",\n",
    "              \"CART\" : \"Classification\"}\n",
    "type(dictionary)"
   ]
  },
  {
   "cell_type": "code",
   "execution_count": 75,
   "id": "380235c2-1a6c-43f5-8911-c7f71f86a81a",
   "metadata": {},
   "outputs": [
    {
     "data": {
      "text/plain": [
       "{'REG': 'Regression', 'LOG': 'Logistic', 'CART': 'Classification'}"
      ]
     },
     "execution_count": 75,
     "metadata": {},
     "output_type": "execute_result"
    }
   ],
   "source": [
    "dictionary"
   ]
  },
  {
   "cell_type": "code",
   "execution_count": 76,
   "id": "8067e4bd-2213-47e3-a20a-1f0eec939ffe",
   "metadata": {},
   "outputs": [
    {
     "data": {
      "text/plain": [
       "'Regression'"
      ]
     },
     "execution_count": 76,
     "metadata": {},
     "output_type": "execute_result"
    }
   ],
   "source": [
    "dictionary[\"REG\"]"
   ]
  },
  {
   "cell_type": "code",
   "execution_count": 77,
   "id": "3e36cf40-d7c6-43f8-88c2-1e04e1f94f47",
   "metadata": {},
   "outputs": [
    {
     "data": {
      "text/plain": [
       "20"
      ]
     },
     "execution_count": 77,
     "metadata": {},
     "output_type": "execute_result"
    }
   ],
   "source": [
    "dictionary = {\"REG\" : [\"Regression\", 10],\n",
    "              \"LOG\" : [\"Logistic\", 20],\n",
    "              \"CART\" : [\"Classification\", 30]}\n",
    "\n",
    "dictionary[\"LOG\"]\n",
    "dictionary[\"LOG\"][1]"
   ]
  },
  {
   "cell_type": "code",
   "execution_count": 78,
   "id": "116e8198-bf94-4e30-ab84-84ffb9ea5e77",
   "metadata": {},
   "outputs": [
    {
     "data": {
      "text/plain": [
       "False"
      ]
     },
     "execution_count": 78,
     "metadata": {},
     "output_type": "execute_result"
    }
   ],
   "source": [
    "# Key Sorgulama\n",
    "\"REG\" in dictionary\n",
    "\"DSE\" in dictionary"
   ]
  },
  {
   "cell_type": "code",
   "execution_count": 79,
   "id": "aa94be41-faec-48a2-9063-63512a078264",
   "metadata": {},
   "outputs": [
    {
     "data": {
      "text/plain": [
       "['Regression', 10]"
      ]
     },
     "execution_count": 79,
     "metadata": {},
     "output_type": "execute_result"
    }
   ],
   "source": [
    "# Key'e Gore Value'ye Erismek\n",
    "dictionary[\"LOG\"]\n",
    "dictionary.get(\"REG\")"
   ]
  },
  {
   "cell_type": "code",
   "execution_count": 80,
   "id": "a226b953-cdf1-4aca-b625-8f06f1cbe042",
   "metadata": {},
   "outputs": [
    {
     "data": {
      "text/plain": [
       "{'REG': ['YSA', 11], 'LOG': ['Logistic', 20], 'CART': ['Classification', 30]}"
      ]
     },
     "execution_count": 80,
     "metadata": {},
     "output_type": "execute_result"
    }
   ],
   "source": [
    "# Value Degistimek\n",
    "dictionary[\"REG\"] = [\"YSA\",11]\n",
    "dictionary"
   ]
  },
  {
   "cell_type": "code",
   "execution_count": 81,
   "id": "ff5b60d7-45a6-4ed7-b329-44fe2a86b6ef",
   "metadata": {},
   "outputs": [
    {
     "data": {
      "text/plain": [
       "dict_values([['YSA', 11], ['Logistic', 20], ['Classification', 30]])"
      ]
     },
     "execution_count": 81,
     "metadata": {},
     "output_type": "execute_result"
    }
   ],
   "source": [
    "dictionary.items() # Tum elemanlara erisim\n",
    "dictionary.keys() # Key degerlerine erisim\n",
    "dictionary.values() # value degerlerine erisim\n"
   ]
  },
  {
   "cell_type": "code",
   "execution_count": 82,
   "id": "64e69007-ac6a-4df9-9287-d4d7ef7ee5d6",
   "metadata": {},
   "outputs": [],
   "source": [
    "dictionary.update({\"REG\" : 11}) # Degisim islemi\n",
    "dictionary.update({\"DSE\" : 12}) # DSE olmadigi icin ekelme yapildi"
   ]
  },
  {
   "cell_type": "code",
   "execution_count": 83,
   "id": "f92a95c9-6f0e-4ca7-95e8-a6c1fdb15b17",
   "metadata": {},
   "outputs": [
    {
     "data": {
      "text/plain": [
       "{'REG': 11, 'LOG': ['Logistic', 20], 'CART': ['Classification', 30], 'DSE': 12}"
      ]
     },
     "execution_count": 83,
     "metadata": {},
     "output_type": "execute_result"
    }
   ],
   "source": [
    "dictionary"
   ]
  },
  {
   "cell_type": "markdown",
   "id": "c36c89a5-6c52-4ea4-902b-111ae09bf228",
   "metadata": {},
   "source": [
    "## Tuple"
   ]
  },
  {
   "cell_type": "markdown",
   "id": "53f1e945-957b-4c93-8dc3-171f08c63b6a",
   "metadata": {},
   "source": [
    "##### Degistirilemez\n",
    "##### Sirali\n",
    "##### Kapsayici"
   ]
  },
  {
   "cell_type": "code",
   "execution_count": 84,
   "id": "ca8d1e54-b414-4d2c-bfe8-ce3963a1cd05",
   "metadata": {},
   "outputs": [
    {
     "data": {
      "text/plain": [
       "('john', 'mark', 1)"
      ]
     },
     "execution_count": 84,
     "metadata": {},
     "output_type": "execute_result"
    }
   ],
   "source": [
    "# Tuple Oluşturma\n",
    "t = (\"john\", \"mark\", 1, 2)\n",
    "type(t)\n",
    "t[0]\n",
    "t[0:3]"
   ]
  },
  {
   "cell_type": "code",
   "execution_count": 86,
   "id": "d25c1c19-db30-4f7a-af57-a577dfbf27e8",
   "metadata": {},
   "outputs": [
    {
     "ename": "TypeError",
     "evalue": "'tuple' object does not support item assignment",
     "output_type": "error",
     "traceback": [
      "\u001b[1;31m---------------------------------------------------------------------------\u001b[0m",
      "\u001b[1;31mTypeError\u001b[0m                                 Traceback (most recent call last)",
      "Input \u001b[1;32mIn [86]\u001b[0m, in \u001b[0;36m<cell line: 2>\u001b[1;34m()\u001b[0m\n\u001b[0;32m      1\u001b[0m \u001b[38;5;66;03m# Değiştirilemez\u001b[39;00m\n\u001b[1;32m----> 2\u001b[0m t[\u001b[38;5;241m1\u001b[39m] \u001b[38;5;241m=\u001b[39m \u001b[38;5;241m99\u001b[39m\n",
      "\u001b[1;31mTypeError\u001b[0m: 'tuple' object does not support item assignment"
     ]
    }
   ],
   "source": [
    "# Değiştirilemez\n",
    "t[1] = 99"
   ]
  },
  {
   "cell_type": "markdown",
   "id": "af06ecac-78cd-4bac-804d-083ba9ddf861",
   "metadata": {},
   "source": [
    "## Set"
   ]
  },
  {
   "cell_type": "markdown",
   "id": "5dfa383b-ba46-45cd-b67a-88c2380b13c8",
   "metadata": {},
   "source": [
    "##### Degistirilebilir\n",
    "##### Sirasiz + Essiz\n",
    "##### Kapsayici"
   ]
  },
  {
   "cell_type": "code",
   "execution_count": 87,
   "id": "25e27aca-a29d-4206-b25d-3049d9e80301",
   "metadata": {},
   "outputs": [],
   "source": [
    "# Set oluşturma\n",
    "x = {1, 3, 5}\n",
    "y = {1, 2, 3}"
   ]
  },
  {
   "cell_type": "code",
   "execution_count": 88,
   "id": "661b4f91-1aff-4709-85e4-4179712db7d8",
   "metadata": {},
   "outputs": [
    {
     "data": {
      "text/plain": [
       "{2}"
      ]
     },
     "execution_count": 88,
     "metadata": {},
     "output_type": "execute_result"
    }
   ],
   "source": [
    "# 2 kume farki\n",
    "x.difference(y) # 1'de olup 2'de olmayan\n",
    "y.difference(x) # 2'de olup 1'de olmayan"
   ]
  },
  {
   "cell_type": "code",
   "execution_count": 89,
   "id": "cd51fb78-3d23-434d-ad6b-b703b124f0fb",
   "metadata": {},
   "outputs": [
    {
     "data": {
      "text/plain": [
       "{2}"
      ]
     },
     "execution_count": 89,
     "metadata": {},
     "output_type": "execute_result"
    }
   ],
   "source": [
    "# 2 kume farki\n",
    "x - y\n",
    "y - x"
   ]
  },
  {
   "cell_type": "code",
   "execution_count": 90,
   "id": "f0346b80-cefb-4093-9c0b-e57e7c6cc026",
   "metadata": {},
   "outputs": [
    {
     "data": {
      "text/plain": [
       "{2, 5}"
      ]
     },
     "execution_count": 90,
     "metadata": {},
     "output_type": "execute_result"
    }
   ],
   "source": [
    "# 2 kumede de olmayan\n",
    "x.symmetric_difference(y) # x.difference(y) + y.difference(x)"
   ]
  },
  {
   "cell_type": "code",
   "execution_count": 91,
   "id": "51bbcdb0-ecb6-4b69-8c03-0ddfa8806dfd",
   "metadata": {},
   "outputs": [
    {
     "data": {
      "text/plain": [
       "{1, 3}"
      ]
     },
     "execution_count": 91,
     "metadata": {},
     "output_type": "execute_result"
    }
   ],
   "source": [
    "# 2 Kume kesisimi\n",
    "x.intersection(y)\n",
    "x & y"
   ]
  },
  {
   "cell_type": "code",
   "execution_count": 92,
   "id": "9f4f5468-8f0d-4bb9-8868-6d4b88e88d09",
   "metadata": {},
   "outputs": [
    {
     "data": {
      "text/plain": [
       "{1, 2, 3, 5}"
      ]
     },
     "execution_count": 92,
     "metadata": {},
     "output_type": "execute_result"
    }
   ],
   "source": [
    "# Kume Birlesimi\n",
    "x.union(y)"
   ]
  },
  {
   "cell_type": "code",
   "execution_count": 93,
   "id": "7e9cf546-4699-46c3-a7b8-d944246464f7",
   "metadata": {},
   "outputs": [
    {
     "data": {
      "text/plain": [
       "False"
      ]
     },
     "execution_count": 93,
     "metadata": {},
     "output_type": "execute_result"
    }
   ],
   "source": [
    "# Kume kesisimi bos mu?\n",
    "x.isdisjoint(y)\n",
    "\n",
    "# 1. kume 2. kumenin alt kumesi mi?\n",
    "x.issubset(y)\n",
    "\n",
    "# 1. kume 2. kumeyi kapsiyor mu?\n",
    "x.isdisjoint(y)"
   ]
  },
  {
   "cell_type": "code",
   "execution_count": null,
   "id": "d424674f-a391-4725-82cc-638f6e234b6e",
   "metadata": {},
   "outputs": [],
   "source": []
  }
 ],
 "metadata": {
  "kernelspec": {
   "display_name": "Python 3 (ipykernel)",
   "language": "python",
   "name": "python3"
  },
  "language_info": {
   "codemirror_mode": {
    "name": "ipython",
    "version": 3
   },
   "file_extension": ".py",
   "mimetype": "text/x-python",
   "name": "python",
   "nbconvert_exporter": "python",
   "pygments_lexer": "ipython3",
   "version": "3.9.12"
  }
 },
 "nbformat": 4,
 "nbformat_minor": 5
}
